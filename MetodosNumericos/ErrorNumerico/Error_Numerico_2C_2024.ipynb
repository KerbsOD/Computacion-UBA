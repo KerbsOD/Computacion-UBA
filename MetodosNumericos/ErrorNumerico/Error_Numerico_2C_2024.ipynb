{
 "cells": [
  {
   "cell_type": "markdown",
   "id": "r1CeEKwvLMb5",
   "metadata": {
    "id": "r1CeEKwvLMb5"
   },
   "source": [
    "# Introducción Laboratorio de Métodos Numéricos\n",
    "\n",
    "---\n",
    "\n",
    "## Docentes:\n",
    "\n",
    "* Pablo Riera\n",
    "* Nicolás Gaggion\n",
    "* Nicolás Mastropasqua\n",
    "* Darío Turco\n",
    "* Matias Grynberg Portnoy\n",
    "---\n",
    "\n",
    "## Evaluación:\n",
    "\n",
    "* Trabajos Prácticos:\n",
    "  * TP1 (Presentación 16/8 - Entrega 13/9 - Reentrega 26/9)\n",
    "  * TP2 (Presentación 4/10 - Entrega 31/10 - Reentrega 5/12)\n",
    "  * TP3 (Presentación 8/11 - Entrega 29/11 - Reentrega 15/12)\n",
    "\n",
    "* Taller presencial grupal:\n",
    "\n",
    "  * Realizar una consigna en clase y defender el trabajo en un breve coloquio con algún docente.\n",
    "  Presentación y entrega 15/11.\n",
    "\n",
    "---\n",
    "\n",
    "## Motivaciones\n",
    "  * Experimentación: Hacerse preguntas y poder responderlas diseñando experimentos numéricos\n",
    "  * Redacción de informes: Transmitir estas preguntas y sus resultados de forma convincente y clara.\n",
    "\n",
    "\n",
    "## Aplicaciones matemáticas:\n",
    "*Problemas continuos utilizando métodos que aproximen soluciones numéricas (a veces, la solución exacta puede no ser viable).*\n",
    "\n",
    "  * Calcular resultados de funciones\n",
    "  * Resolver sistemas de ecuaciones\n",
    "  * Computar de autovalores/autovectores\n",
    "  * Cálculo de integrales\n",
    "  * Interpolación, extrapolación, regresión\n",
    "  * Ecuaciones diferenciales\n",
    "  * Optimización\n",
    "\n",
    "## Aplicaciones de modelado\n",
    " * Machine Learning\n",
    " * Modelos físicos, químicos, etc\n",
    " * Simulaciones\n",
    " * Computación científica en general\n",
    "\n",
    "---\n",
    "\n",
    "## Sobre los informes\n",
    "\n",
    "Una posible (recomendada) estructura para el informe:\n",
    "\n",
    "\n",
    "* **Introducción**: explicar los conceptos necesarios para que una persona **no familiarizada con el tema**, por ejemplo un alumno de Computación antes de cursar la materia, pueda entender el núcleo de los modelos matemáticos estudiados en el TP. Es util dar referencias a la literatura, las teóricas, etc.\n",
    "\n",
    "* **Desarrollo**: explicar como hicieron para resolver el problema central, dejándo en claro las hipótesis del trabajo. Detalles de implementación, demostraciones y metodología en general pueden\n",
    "ser parte de esta sección.\n",
    "\n",
    "* **Resultados/Discusión**: pueden ser dos secciones o una sola. Deben incluir los resultados de los experimentos, mostrándolos y explicándolos de una manera comprensible para el lector. Es importante buscar la mejor forma de visualizar lo que se quiere reportar a efectos de facilitar la comprensión del lector.\n",
    "\n",
    "* **Conclusiones**: resaltar/enfatizar aquellas hipótesis importantes que fueron validadas con los experimentos y vincularlas con los mismos. Lo que quieren que quede en la mente del lector.\n",
    "\n",
    "\n",
    "\n",
    "Para más detalles consultar el archivo de pautas de escritura de informes en el campus.\n",
    "\n",
    "---\n",
    "\n",
    "\n",
    "## Breve historia del software numérico\n",
    "* 1957 - Fortran\n",
    "* 1979 - BLAS (Basic Linear Algebra Subprograms)\n",
    "* 1984 - MATLAB\n",
    "* 1992 - LAPACK (Linear Algebra Package)\n",
    "* 1993 - GNU Octave\n",
    "* 2000 - R\n",
    "* 2005 - **NumPy**\n",
    "* 2006 - **EIGEN**\n",
    "* 2012 - julia\n",
    "\n",
    "Jack Dongarra Premio Turing 2021, “padre” del software de calculo numérico\n",
    "\n",
    "\n",
    "Para seguir leyendo:\n",
    "* https://en.wikipedia.org/wiki/List_of_numerical_libraries\n",
    "* https://en.wikipedia.org/wiki/Comparison_of_numerical-analysis_software\n"
   ]
  },
  {
   "cell_type": "markdown",
   "id": "059fa5a2",
   "metadata": {
    "id": "059fa5a2"
   },
   "source": [
    "# Error numérico"
   ]
  },
  {
   "cell_type": "markdown",
   "id": "4020c1b2",
   "metadata": {
    "id": "4020c1b2"
   },
   "source": [
    "---\n",
    "\n",
    "Cómo podemos representar estos conjuntos de número en una computadora?\n",
    "\n",
    "- $\\mathbb{N}_0$ naturales con el cero\n",
    "- $\\mathbb{Z}$ enteros\n",
    "- $\\mathbb{Q}$ racionales\n",
    "- $\\mathbb{R}$ reales\n",
    "- $\\mathbb{C}$ complejos"
   ]
  },
  {
   "cell_type": "markdown",
   "id": "1598d4a0",
   "metadata": {
    "id": "1598d4a0"
   },
   "source": [
    "Recordemos que, dado un $x \\in \\mathbb{R}$ podemos escribirlo como\n",
    "\n",
    "\\begin{equation}\n",
    "  x = \\sum\\limits_{j=0}^{N} a_j 10^j + \\sum\\limits_{j=1}^{\\infty} b_j 10^{-j}\n",
    "\\end{equation}\n",
    "\n",
    "donde el primer término es la parte entera y el segundo la decimal.\n",
    "\n",
    "\n",
    "Análogamente, podemos escribirlos con cualquier base. En particular, base binaria\n",
    "\n",
    "\\begin{equation}\n",
    "  x = \\sum\\limits_{j=0}^{N} a_j 2^j + \\sum\\limits_{j=1}^{\\infty} b_j 2^{-j}\n",
    "\\end{equation}\n",
    "\n",
    "Acá podemos considerar $a_j$ y $b_j$ como bits prendidos o apagados.\n",
    "\n",
    "Para representar números reales se puede utilizar representación de punto fijo, y de punto flotante.\n",
    "\n",
    "---\n"
   ]
  },
  {
   "cell_type": "markdown",
   "id": "ab9400fa",
   "metadata": {
    "id": "ab9400fa"
   },
   "source": [
    "\n",
    "## Representación de punto flotante\n",
    "\n",
    "Estándar IEEE-754 del 1985 para precisión _single_ (32 bits) y _double_ (64 bits)\n",
    "\n",
    "Qué define el Estándar? Principalmente:\n",
    "\n",
    "* Formatos aritméticos: conjuntos de datos de punto flotante binarios y decimales, que consisten en números finitos, infinitos y valores especiales \"no numéricos\" (NaN).\n",
    "* Reglas de redondeo: propiedades que deben satisfacerse al redondear los números durante las operaciones aritméticas y las conversiones\n",
    "* Manejo de excepciones: indicaciones de condiciones excepcionales, tales como división por cero, desbordamiento, etc\n",
    "\n",
    "---\n",
    "<br>\n",
    "\n",
    "<div align=\"center\">\n",
    "\n",
    "![](https://i.imgur.com/NThAtkZ.png)\n",
    "\n",
    "</div>\n",
    "\n",
    "* Solo un subconjunto de $\\mathbb{Q}$ es representable. **Cuál?**\n",
    "* Cantidad finita de números representables. **Cuántos?**\n",
    "* Sus números no estan uniformemente distribuidos entre el máximo y el mínimo. **Por qué?**\n",
    "\n",
    "---\n",
    "<div align=\"center\">\n",
    "\n",
    "![](https://upload.wikimedia.org/wikipedia/commons/thumb/d/d2/Float_example.svg/590px-Float_example.svg.png)\n",
    "\n",
    "\n",
    "\n",
    "\n",
    "|        | Signo (s) | Exponente (e)| Mantisa (m) | Sesgo (g)|\n",
    "|--------|-----------|--------------|-------------|----------|\n",
    "| Simple |     1 bit |     8 bits   |     23 bits | 127      |\n",
    "| Doble  |     1 bit |     11 bits  |     52 bits | 1023     |\n",
    "\n",
    "</div>\n",
    "\n",
    "$$ x = (-1)^s \\ 2^{e-g} \\ (1 + m) $$\n",
    "\n",
    "<br>\n",
    "\n",
    "\n",
    "* Racionales con decimales periódicos y los irracionales quedan afuera\n",
    "\n",
    "* Cantidade representable: Combinatoria de los valores signo, exponente y mantisa\n",
    "\n",
    "* Números uniformemente distribuidos entre potencias sucesivas del exponente.\n",
    "\n",
    "---\n",
    "\n"
   ]
  },
  {
   "cell_type": "markdown",
   "id": "693a35b1",
   "metadata": {
    "id": "693a35b1"
   },
   "source": [
    " ### Casos extremos para 64 bits\n",
    "  \n",
    "  * Los números positivos menores al mínimo representable  $ 2^{-1023} \\ (1+2^{-52}) \\approx 10^{-308}$, producen _underflow_\n",
    "  * Los números positivos mayores al máximo representable  $2^{1024} \\ (2-2^{-52}) \\approx 10^{308}$, producen _overflow_\n",
    "  * Epsilon de máquina:\n",
    "    * Menor valor que cumple $1+ϵ>1$.\n",
    "    * El máximo error relativo que se comete al representar un número en punto flotante.\n",
    "    * Depende de la precisión elegida (32 bits, 64bits)\n",
    "  * NaN\n",
    "  * Inf  "
   ]
  },
  {
   "cell_type": "markdown",
   "id": "1wluoloxPtfl",
   "metadata": {
    "id": "1wluoloxPtfl"
   },
   "source": [
    "---\n",
    "\n",
    "### Forma normalizada\n",
    "\n",
    "Para evitar oscurecer el problema con base 2, pensemos en base 10.\n",
    "\n",
    "Forma de punto flotante normalizada de $x$ para decimales de $k$ dígitos:\n",
    "\n",
    "$$\n",
    "x = \\pm \\ 0, d_1 d_2 \\dots d_k  \\times 10^{n} \\ \\\n",
    "$$\n",
    "\n",
    "con $1 \\leq d_1 \\leq 9, \\ \\  0 \\leq d_i \\leq 9, \\ \\ i = 1 \\dots k$\n",
    "\n",
    "\n",
    "\n",
    "O sea, el primer dígito tiene que ser no nulo.\n",
    "\n",
    "---\n",
    "\n",
    "### Ventajas forma normalizada\n",
    "\n",
    "* Unicidad\n",
    "* No desperdiciamos digitos en 0s a izquierda\n",
    "*En binario $d_0=0$ y $d_1=1$, directamente no se representa, ahorrando un bit más.\n",
    "\n",
    "\n",
    "---\n",
    "\n",
    "\n",
    "### Normalizando un número\n",
    "\n",
    "Cualquier número en el rango de representación podemos escribirlo como:\n",
    "$$ x = \\pm \\ 0, d_1 d_2 \\dots d_k, d_{k+1}, d_{k+2} \\dots  \\times 10^{n}\n",
    "$$\n",
    "\n",
    "\n",
    "con $1 \\leq d_1 \\leq 9, \\ \\  0 \\leq d_i \\leq 9, \\ \\ i = 1 \\dots k$\n",
    "\n",
    "* Truncamiento: $fl(x) = t(x) = \\pm \\ 0, d_1 d_2 \\dots d_k \\times 10^n$\n",
    "* Redondeo: $fl(x) = t(x + 5\\times 10^{n-(k+1)})$ (forma rara de escribir el viejo redondeo)\n",
    "\n",
    "*IEEE usa redondeo*.\n",
    "\n",
    "*Notación: $fl(x)$ es la representación de punto flotante por redondeo o truncamiento de $x$*\n",
    "\n",
    "---\n",
    "\n",
    "### Desnormalización\n",
    "* ¿¿$ x == y$ iif $x - y == 0 $ ??\n",
    "* IEE lo garantiza,  \"Underflow gradual\" evitando *flush to zero*\n",
    "* Se extiende el rango de representación al intervalo de underflow a costa de tener menos precisión allí.\n",
    "\n",
    "![](https://docs.oracle.com/cd/E19957-01/806-3568/images/ncg_goldberg23.gif)\n",
    "\n",
    "Más detalles acá https://docs.oracle.com/cd/E19957-01/806-3568/ncg_math.html#746\n",
    "\n",
    "---\n",
    "\n",
    "### Ejemplo interactivo: IEEE 754 - 32 bits\n",
    "\n",
    "![](https://i.imgur.com/EJGzDX9.png)\n",
    "\n",
    "https://www.h-schmidt.net/FloatConverter/IEEE754.html\n",
    "\n",
    "\n"
   ]
  },
  {
   "cell_type": "code",
   "id": "76a9e385",
   "metadata": {
    "id": "76a9e385",
    "ExecuteTime": {
     "end_time": "2024-08-17T17:05:13.686837Z",
     "start_time": "2024-08-17T17:05:13.684550Z"
    }
   },
   "source": [
    "import sys\n",
    "import numpy as np"
   ],
   "outputs": [],
   "execution_count": 11
  },
  {
   "cell_type": "code",
   "execution_count": null,
   "id": "dzFEb6loYCSJ",
   "metadata": {
    "colab": {
     "base_uri": "https://localhost:8080/"
    },
    "id": "dzFEb6loYCSJ",
    "outputId": "60b9e02b-5cc3-4f48-9e86-dc0a2ac7d106"
   },
   "outputs": [
    {
     "data": {
      "text/plain": [
       "finfo(resolution=1e-06, min=-3.4028235e+38, max=3.4028235e+38, dtype=float32)"
      ]
     },
     "execution_count": 3,
     "metadata": {},
     "output_type": "execute_result"
    }
   ],
   "source": [
    "np.finfo(np.float32)"
   ]
  },
  {
   "cell_type": "code",
   "execution_count": null,
   "id": "6yUf1l3TYFP_",
   "metadata": {
    "colab": {
     "base_uri": "https://localhost:8080/"
    },
    "id": "6yUf1l3TYFP_",
    "outputId": "75f1200c-c996-4750-d58c-bcbd5c1c6f22"
   },
   "outputs": [
    {
     "data": {
      "text/plain": [
       "finfo(resolution=1e-15, min=-1.7976931348623157e+308, max=1.7976931348623157e+308, dtype=float64)"
      ]
     },
     "execution_count": 4,
     "metadata": {},
     "output_type": "execute_result"
    }
   ],
   "source": [
    "np.finfo(np.float64)"
   ]
  },
  {
   "cell_type": "code",
   "execution_count": null,
   "id": "ISWVA75to56W",
   "metadata": {
    "colab": {
     "base_uri": "https://localhost:8080/"
    },
    "id": "ISWVA75to56W",
    "outputId": "854a4872-b896-4d28-c89e-fba1dd2db834"
   },
   "outputs": [
    {
     "data": {
      "text/plain": [
       "2.2250738585072014e-308"
      ]
     },
     "execution_count": 5,
     "metadata": {},
     "output_type": "execute_result"
    }
   ],
   "source": [
    "np.finfo(np.float64).tiny"
   ]
  },
  {
   "cell_type": "code",
   "execution_count": null,
   "id": "7AS9smHEpE9P",
   "metadata": {
    "colab": {
     "base_uri": "https://localhost:8080/"
    },
    "id": "7AS9smHEpE9P",
    "outputId": "0ae14471-78b5-4fbe-df2f-eaedec00eca9"
   },
   "outputs": [
    {
     "data": {
      "text/plain": [
       "5e-324"
      ]
     },
     "execution_count": 6,
     "metadata": {},
     "output_type": "execute_result"
    }
   ],
   "source": [
    "np.finfo(np.float64).smallest_subnormal"
   ]
  },
  {
   "cell_type": "code",
   "execution_count": null,
   "id": "ma_NfOOCYDtX",
   "metadata": {
    "colab": {
     "base_uri": "https://localhost:8080/"
    },
    "id": "ma_NfOOCYDtX",
    "outputId": "de87091f-05ff-4955-a83b-f35feed351d7"
   },
   "outputs": [
    {
     "data": {
      "text/plain": [
       "sys.float_info(max=1.7976931348623157e+308, max_exp=1024, max_10_exp=308, min=2.2250738585072014e-308, min_exp=-1021, min_10_exp=-307, dig=15, mant_dig=53, epsilon=2.220446049250313e-16, radix=2, rounds=1)"
      ]
     },
     "execution_count": 19,
     "metadata": {},
     "output_type": "execute_result"
    }
   ],
   "source": [
    "sys.float_info"
   ]
  },
  {
   "cell_type": "markdown",
   "id": "rTaoNQJwcC_L",
   "metadata": {
    "id": "rTaoNQJwcC_L"
   },
   "source": [
    "minimum representable positive normalized float"
   ]
  },
  {
   "cell_type": "code",
   "execution_count": null,
   "id": "u4MiIqJ0VZyP",
   "metadata": {
    "colab": {
     "base_uri": "https://localhost:8080/"
    },
    "id": "u4MiIqJ0VZyP",
    "outputId": "1db339fa-e353-4605-8234-8e8dab5cad04"
   },
   "outputs": [
    {
     "data": {
      "text/plain": [
       "2.2250738585072014e-308"
      ]
     },
     "execution_count": 20,
     "metadata": {},
     "output_type": "execute_result"
    }
   ],
   "source": [
    "sys.float_info.min"
   ]
  },
  {
   "cell_type": "markdown",
   "id": "gpwC_PC5cTM3",
   "metadata": {
    "id": "gpwC_PC5cTM3"
   },
   "source": [
    "difference between 1.0 and the least value greater than 1.0 that is representable as a float"
   ]
  },
  {
   "cell_type": "code",
   "execution_count": null,
   "id": "Q528rgfgbfx7",
   "metadata": {
    "colab": {
     "base_uri": "https://localhost:8080/"
    },
    "id": "Q528rgfgbfx7",
    "outputId": "0d1340c9-5378-48f6-c4fd-ef61f819703b"
   },
   "outputs": [
    {
     "data": {
      "text/plain": [
       "2.220446049250313e-16"
      ]
     },
     "execution_count": 7,
     "metadata": {},
     "output_type": "execute_result"
    }
   ],
   "source": [
    "eps = sys.float_info.epsilon\n",
    "eps"
   ]
  },
  {
   "cell_type": "code",
   "execution_count": null,
   "id": "IUZ_bmFfpvxg",
   "metadata": {
    "colab": {
     "base_uri": "https://localhost:8080/"
    },
    "id": "IUZ_bmFfpvxg",
    "outputId": "a2dd4a75-db46-4b01-9703-e08ba79d7c8f"
   },
   "outputs": [
    {
     "data": {
      "text/plain": [
       "True"
      ]
     },
     "execution_count": 10,
     "metadata": {},
     "output_type": "execute_result"
    }
   ],
   "source": [
    "1 + sys.float_info.epsilon - sys.float_info.epsilon/2  == 1"
   ]
  },
  {
   "cell_type": "code",
   "execution_count": null,
   "id": "McJ38Rg_TlK0",
   "metadata": {
    "colab": {
     "base_uri": "https://localhost:8080/"
    },
    "id": "McJ38Rg_TlK0",
    "outputId": "5ab8d6d6-7c63-47fe-bad9-a8270aa775aa"
   },
   "outputs": [
    {
     "data": {
      "text/plain": [
       "1.0000000000000002"
      ]
     },
     "execution_count": 9,
     "metadata": {},
     "output_type": "execute_result"
    }
   ],
   "source": [
    "1 + sys.float_info.epsilon"
   ]
  },
  {
   "cell_type": "code",
   "execution_count": null,
   "id": "ZmDrr-F0p_v-",
   "metadata": {
    "colab": {
     "base_uri": "https://localhost:8080/"
    },
    "id": "ZmDrr-F0p_v-",
    "outputId": "321d4464-4f65-4ff9-8646-83f339171b26"
   },
   "outputs": [
    {
     "data": {
      "text/plain": [
       "True"
      ]
     },
     "execution_count": 26,
     "metadata": {},
     "output_type": "execute_result"
    }
   ],
   "source": [
    "np.nextafter(1, 2) == sys.float_info.epsilon + 1"
   ]
  },
  {
   "cell_type": "code",
   "id": "aQo45G_ApZyh",
   "metadata": {
    "colab": {
     "base_uri": "https://localhost:8080/"
    },
    "id": "aQo45G_ApZyh",
    "outputId": "b1e9ca69-3a6a-46bf-93f0-a1e836397d66",
    "ExecuteTime": {
     "end_time": "2024-08-17T17:05:01.442947Z",
     "start_time": "2024-08-17T17:05:01.439833Z"
    }
   },
   "source": [
    "(np.nextafter(1e300,1e400 + 1) - 1e300)/1e300"
   ],
   "outputs": [
    {
     "data": {
      "text/plain": [
       "1.487016908477783e-16"
      ]
     },
     "execution_count": 10,
     "metadata": {},
     "output_type": "execute_result"
    }
   ],
   "execution_count": 10
  },
  {
   "cell_type": "code",
   "execution_count": null,
   "id": "4CzQ7rtPex_z",
   "metadata": {
    "colab": {
     "base_uri": "https://localhost:8080/"
    },
    "id": "4CzQ7rtPex_z",
    "outputId": "0481ad4d-2533-466a-8256-030cc5902210"
   },
   "outputs": [
    {
     "data": {
      "text/plain": [
       "True"
      ]
     },
     "execution_count": 33,
     "metadata": {},
     "output_type": "execute_result"
    }
   ],
   "source": [
    "1 + sys.float_info.epsilon/2 == 1"
   ]
  },
  {
   "cell_type": "code",
   "execution_count": null,
   "id": "S6Pj3XgbVxLd",
   "metadata": {
    "colab": {
     "base_uri": "https://localhost:8080/"
    },
    "id": "S6Pj3XgbVxLd",
    "outputId": "9a5dea57-ef5e-4b7a-eb70-d5164b6d1d7a"
   },
   "outputs": [
    {
     "data": {
      "text/plain": [
       "4.49423283715579e+307"
      ]
     },
     "execution_count": 34,
     "metadata": {},
     "output_type": "execute_result"
    }
   ],
   "source": [
    "1 / sys.float_info.min"
   ]
  },
  {
   "cell_type": "code",
   "execution_count": null,
   "id": "_ZYFA1VGVzAd",
   "metadata": {
    "colab": {
     "base_uri": "https://localhost:8080/"
    },
    "id": "_ZYFA1VGVzAd",
    "outputId": "9d53ac92-b9ab-4671-9a13-3ab8f6381883"
   },
   "outputs": [
    {
     "data": {
      "text/plain": [
       "inf"
      ]
     },
     "execution_count": 12,
     "metadata": {},
     "output_type": "execute_result"
    }
   ],
   "source": [
    "1 / (sys.float_info.min * sys.float_info.epsilon)"
   ]
  },
  {
   "cell_type": "markdown",
   "id": "xi6QGWNAbuM7",
   "metadata": {
    "id": "xi6QGWNAbuM7"
   },
   "source": [
    "No va a andar esto...."
   ]
  },
  {
   "cell_type": "code",
   "id": "IJbDedI_TgcB",
   "metadata": {
    "colab": {
     "base_uri": "https://localhost:8080/",
     "height": 143
    },
    "id": "IJbDedI_TgcB",
    "outputId": "909a0142-8b54-41b1-c204-1808f5c11331",
    "ExecuteTime": {
     "end_time": "2024-08-17T17:03:59.536756Z",
     "start_time": "2024-08-17T17:03:59.521243Z"
    }
   },
   "source": [
    "1/0.0"
   ],
   "outputs": [
    {
     "ename": "ZeroDivisionError",
     "evalue": "float division by zero",
     "output_type": "error",
     "traceback": [
      "\u001B[0;31m---------------------------------------------------------------------------\u001B[0m",
      "\u001B[0;31mZeroDivisionError\u001B[0m                         Traceback (most recent call last)",
      "Cell \u001B[0;32mIn[6], line 1\u001B[0m\n\u001B[0;32m----> 1\u001B[0m \u001B[38;5;241m1\u001B[39m\u001B[38;5;241m/\u001B[39m\u001B[38;5;241m0.0\u001B[39m\n",
      "\u001B[0;31mZeroDivisionError\u001B[0m: float division by zero"
     ]
    }
   ],
   "execution_count": 6
  },
  {
   "cell_type": "code",
   "execution_count": null,
   "id": "eIFn9V-0YRdO",
   "metadata": {
    "colab": {
     "base_uri": "https://localhost:8080/"
    },
    "id": "eIFn9V-0YRdO",
    "outputId": "1e34a5d1-9878-4503-e960-bbfa58e23ec2"
   },
   "outputs": [
    {
     "data": {
      "text/plain": [
       "inf"
      ]
     },
     "execution_count": 14,
     "metadata": {},
     "output_type": "execute_result"
    }
   ],
   "source": [
    "np.inf+np.inf"
   ]
  },
  {
   "cell_type": "code",
   "execution_count": null,
   "id": "HIODjvHOv5PO",
   "metadata": {
    "colab": {
     "base_uri": "https://localhost:8080/"
    },
    "id": "HIODjvHOv5PO",
    "outputId": "2115399c-4878-49fa-948f-7dc4ef3459a1"
   },
   "outputs": [
    {
     "data": {
      "text/plain": [
       "inf"
      ]
     },
     "execution_count": 35,
     "metadata": {},
     "output_type": "execute_result"
    }
   ],
   "source": [
    "1 + np.inf"
   ]
  },
  {
   "cell_type": "code",
   "execution_count": null,
   "id": "caqzTNpxYmkI",
   "metadata": {
    "colab": {
     "base_uri": "https://localhost:8080/"
    },
    "id": "caqzTNpxYmkI",
    "outputId": "c1e1370c-4097-4810-b752-ef35df16beb9"
   },
   "outputs": [
    {
     "data": {
      "text/plain": [
       "0.0"
      ]
     },
     "execution_count": 67,
     "metadata": {},
     "output_type": "execute_result"
    }
   ],
   "source": [
    "1/np.inf"
   ]
  },
  {
   "cell_type": "code",
   "execution_count": null,
   "id": "ttCVdTgNYtx_",
   "metadata": {
    "colab": {
     "base_uri": "https://localhost:8080/"
    },
    "id": "ttCVdTgNYtx_",
    "outputId": "4aa5c8fa-44ae-4f62-88c8-ebff24968233"
   },
   "outputs": [
    {
     "data": {
      "text/plain": [
       "nan"
      ]
     },
     "execution_count": 68,
     "metadata": {},
     "output_type": "execute_result"
    }
   ],
   "source": [
    "np.inf-np.inf"
   ]
  },
  {
   "cell_type": "code",
   "execution_count": null,
   "id": "96a6a57a",
   "metadata": {
    "colab": {
     "base_uri": "https://localhost:8080/"
    },
    "id": "96a6a57a",
    "outputId": "b14ea211-b2fb-44ef-8aee-eb3e9c6188d6"
   },
   "outputs": [
    {
     "data": {
      "text/plain": [
       "2.220446049250313e-16"
      ]
     },
     "execution_count": 85,
     "metadata": {},
     "output_type": "execute_result"
    }
   ],
   "source": [
    "# Resolución mínima parándome en el número 1\n",
    "# Return the distance between x and the nearest adjacent number.\n",
    "# spacing the 1 es epsilon\n",
    "np.spacing(1)"
   ]
  },
  {
   "cell_type": "code",
   "execution_count": null,
   "id": "eY1wKdd3tUcc",
   "metadata": {
    "colab": {
     "base_uri": "https://localhost:8080/"
    },
    "id": "eY1wKdd3tUcc",
    "outputId": "03931336-e7fc-4b2c-9e6d-b87ea119c3be"
   },
   "outputs": [
    {
     "data": {
      "text/plain": [
       "1.487016908477783e+284"
      ]
     },
     "execution_count": 86,
     "metadata": {},
     "output_type": "execute_result"
    }
   ],
   "source": [
    "np.spacing(1e300)"
   ]
  },
  {
   "cell_type": "code",
   "execution_count": null,
   "id": "582ddd18",
   "metadata": {
    "colab": {
     "base_uri": "https://localhost:8080/"
    },
    "id": "582ddd18",
    "outputId": "22dfb93b-02c6-4739-e0ff-c035492f79d4"
   },
   "outputs": [
    {
     "data": {
      "text/plain": [
       "2.220446049250313e-16"
      ]
     },
     "execution_count": 15,
     "metadata": {},
     "output_type": "execute_result"
    }
   ],
   "source": [
    "# Encontramos el epsilon cuando sumar 1 + epsilon = 1\n",
    "y = 1\n",
    "x = y\n",
    "while y+x != y:\n",
    "    eps = x\n",
    "    x=x/2\n",
    "eps"
   ]
  },
  {
   "cell_type": "code",
   "execution_count": null,
   "id": "-cxB0t-3Y44x",
   "metadata": {
    "colab": {
     "base_uri": "https://localhost:8080/"
    },
    "id": "-cxB0t-3Y44x",
    "outputId": "3803b4d6-657e-4149-feb5-fdc09dea9abd"
   },
   "outputs": [
    {
     "name": "stdout",
     "output_type": "stream",
     "text": [
      "999900000.0\n",
      "9998000100000.0\n",
      "9.99700029999e+16\n",
      "9.996000599960002e+20\n",
      "9.995000999900006e+24\n",
      "9.994001499800016e+28\n",
      "9.993002099650036e+32\n",
      "9.992002799440072e+36\n",
      "9.991003599160128e+40\n",
      "9.990004498800213e+44\n",
      "9.989005498350333e+48\n",
      "9.988006597800497e+52\n",
      "9.987007797140718e+56\n",
      "9.986009096361003e+60\n",
      "9.985010495451368e+64\n",
      "9.984011994401823e+68\n",
      "9.983013593202384e+72\n",
      "9.982015291843064e+76\n",
      "9.981017090313878e+80\n",
      "9.980018988604847e+84\n",
      "9.979020986705987e+88\n",
      "9.978023084607317e+92\n",
      "9.977025282298857e+96\n",
      "9.976027579770627e+100\n",
      "9.97502997701265e+104\n",
      "9.974032474014948e+108\n",
      "9.973035070767546e+112\n",
      "9.97203776726047e+116\n",
      "9.971040563483744e+120\n",
      "9.970043459427396e+124\n",
      "9.969046455081452e+128\n",
      "9.968049550435944e+132\n",
      "9.967052745480902e+136\n",
      "9.966056040206353e+140\n",
      "9.965059434602334e+144\n",
      "9.964062928658873e+148\n",
      "9.963066522366007e+152\n",
      "9.96207021571377e+156\n",
      "9.9610740086922e+160\n",
      "9.960077901291329e+164\n",
      "9.9590818935012e+168\n",
      "9.95808598531185e+172\n",
      "9.957090176713318e+176\n",
      "9.956094467695647e+180\n",
      "9.955098858248877e+184\n",
      "9.954103348363053e+188\n",
      "9.953107938028218e+192\n",
      "9.952112627234415e+196\n",
      "9.951117415971692e+200\n",
      "9.950122304230096e+204\n",
      "9.949127291999672e+208\n",
      "9.94813237927047e+212\n",
      "9.947137566032544e+216\n",
      "9.946142852275941e+220\n",
      "9.945148237990714e+224\n",
      "9.944153723166916e+228\n",
      "9.9431593077946e+232\n",
      "9.942164991863821e+236\n",
      "9.941170775364636e+240\n",
      "9.940176658287098e+244\n",
      "9.93918264062127e+248\n",
      "9.938188722357207e+252\n",
      "9.937194903484972e+256\n",
      "9.936201183994623e+260\n",
      "9.935207563876223e+264\n",
      "9.934214043119836e+268\n",
      "9.933220621715523e+272\n",
      "9.932227299653351e+276\n",
      "9.931234076923385e+280\n",
      "9.930240953515693e+284\n",
      "9.929247929420342e+288\n",
      "9.9282550046274e+292\n",
      "9.927262179126936e+296\n",
      "9.926269452909024e+300\n",
      "9.925276825963735e+304\n",
      "inf\n",
      "nan\n"
     ]
    },
    {
     "data": {
      "text/plain": [
       "nan"
      ]
     },
     "execution_count": 37,
     "metadata": {},
     "output_type": "execute_result"
    }
   ],
   "source": [
    "x = 100000.0\n",
    "while not np.isnan(x):\n",
    "    x=10000.0*x-x\n",
    "    print(x)\n",
    "x"
   ]
  },
  {
   "cell_type": "markdown",
   "id": "GSxwKQirUNu3",
   "metadata": {
    "id": "GSxwKQirUNu3"
   },
   "source": [
    "\n",
    "### El caso del Missile Patriot: Arabia Saudita, año 1991, 28 muertos\n",
    "\n",
    "El misil Patriot es un misil de intercepción de ataques enemigos.\n",
    "\n",
    "\n",
    "* Para medir los tiempos necesarios para los cálculos iba sumando de a décimas de segundo a su clock interno.\n",
    "\n",
    "* Un décimo es periódico en base 2. 1/10 $\\simeq$ 0.0001100110011001100110011001100\n",
    "* Pero el patriot sólo podía guardar 24 bits. Entonces 1/10 para el Patriot es 0.00011001100110011001100\n",
    "* Lo que se pierde al representar un décimo asi es $\\simeq$ 0.000000095\n",
    "* Al estar prendido por 100 horas, el clock del patriot está corrido 0.000000095$\\times$100$\\times$36000 = 0.34 segundos\n",
    "* Un misil Scud viaja a más de 1600 metros por segundo. Es decir, que en 0.34 segundos hace más o menos 5 cuadras\n",
    "\n",
    "\n",
    "http://www-users.math.umn.edu/~arnold/disasters/disasters.html\n"
   ]
  },
  {
   "cell_type": "markdown",
   "id": "22b7c2c9",
   "metadata": {
    "id": "22b7c2c9"
   },
   "source": [
    "## Fuentes de error al realizar operaciones con aritmética finita\n",
    "\n",
    "* Sumar números de distinta magnitud\n",
    "* Cancelación Catastrófica\n",
    "* Dividir por números pequeños\n",
    "* Multiplicar por números grandes\n",
    "\n",
    "### Un poco de notación\n",
    "\n",
    "Sean $x, y \\in \\mathbb{R}$. Definamos las operaciones entre sus representaciones\n",
    "\n",
    "  \\begin{align*}\n",
    "    x \\oplus y &= fl(fl(x) + fl(y)) \\\\\n",
    "    x \\ominus y &= fl(fl(x) - fl(y)) \\\\\n",
    "    x \\odot y   &= fl(fl(x) fl(y)) \\\\\n",
    "    x \\oslash y &= fl(fl(x) / fl(y)) \\\\\n",
    "  \\end{align*}\n",
    "\n",
    "**Obs**: Se puede dar una cota teórica para estas operaciones en función del epsilon máquina\n"
   ]
  },
  {
   "cell_type": "markdown",
   "id": "70c56512",
   "metadata": {
    "id": "70c56512"
   },
   "source": [
    "### Sumar números de distinta magnitud\n",
    "\n",
    "* Cuando sumamos o restamos en punto flotante, los exponentes tienen que coincidir para poder operar sobre las mantisas.\n",
    "* Hacerlos coincidir requiere shifts del exponente, potencialmente perdiendo dígitos.\n",
    "\n",
    "Ejemplo usando precisión de $k = 5$ dígitos\n",
    "\n",
    "Sean $x = 0,88888888 \\times 10^7$ e $y = 0,1 \\times 10^2$. Entonces\n",
    "\n",
    "$$\n",
    "\\begin{align*}\n",
    "fl(fl(x) + fl(y)) &= fl(0,88888 \\cdot 10^7 + 0,1 \\cdot 10^2)\\\\\n",
    "&= fl(0,88888 \\cdot 10^7 + 0,000001 \\cdot 10^7)\\\\\n",
    "&= fl(0,888881 \\cdot 10^7)\\\\\n",
    "&= 0,88888 \\cdot 10^7\n",
    "\\end{align*}\n",
    "$$\n",
    "\n",
    "El valor $x$ _absorbió_ a $y$. ¿Qué pasaría al sumar muchos números?\n",
    "\n"
   ]
  },
  {
   "cell_type": "code",
   "execution_count": null,
   "id": "0393f505",
   "metadata": {
    "colab": {
     "base_uri": "https://localhost:8080/"
    },
    "id": "0393f505",
    "outputId": "f7e16cff-5df9-467d-fa0e-918c3dee1098"
   },
   "outputs": [
    {
     "name": "stdout",
     "output_type": "stream",
     "text": [
      "Se conserva la suma: 1000000.0000000001\n",
      "Se redondeó: 10000000.0\n"
     ]
    }
   ],
   "source": [
    "print('Se conserva la suma:', 1e+6+1e-10)\n",
    "print('Se redondeó:',1e+7+1e-10)"
   ]
  },
  {
   "cell_type": "markdown",
   "id": "47d8bb7d",
   "metadata": {
    "id": "47d8bb7d"
   },
   "source": [
    "### División por números pequeños\n",
    "\n",
    "* Al multiplicar por un número grande el error de redondeo se amplifica proporcionalmente\n",
    "* Lo mismo ocurre al dividir por un número muy chico\n",
    "\n",
    "Ejemplo:\n",
    "* $fl(z) = z + \\delta$ donde $\\delta$ es el error de representación o introducido en un cálculo anterior.\n",
    "* $\\epsilon = 10^{-n}$ donde $n > 0$\n",
    "* $\\dfrac{z}{\\epsilon} \\approx fl ( \\dfrac{fl(z)}{fl(\\epsilon)}) = (z + \\delta ) \\times 10^n$ \\\\\n",
    "* Error absoluto = $| \\delta | \\times 10^n$"
   ]
  },
  {
   "cell_type": "code",
   "execution_count": null,
   "id": "e3821b1d",
   "metadata": {
    "colab": {
     "base_uri": "https://localhost:8080/"
    },
    "id": "e3821b1d",
    "outputId": "9b54bac9-168b-49f8-9dc7-16835e768510"
   },
   "outputs": [
    {
     "data": {
      "text/plain": [
       "4096.0"
      ]
     },
     "execution_count": 6,
     "metadata": {},
     "output_type": "execute_result"
    }
   ],
   "source": [
    "(0.1+0.2)/1e-20 - 0.3/1e-20"
   ]
  },
  {
   "cell_type": "code",
   "execution_count": null,
   "id": "-hUbkJGIZQ8F",
   "metadata": {
    "colab": {
     "base_uri": "https://localhost:8080/"
    },
    "id": "-hUbkJGIZQ8F",
    "outputId": "19864501-87f7-4e26-fcdf-44290e7a6cbe"
   },
   "outputs": [
    {
     "data": {
      "text/plain": [
       "5.551115123125783e-17"
      ]
     },
     "execution_count": 14,
     "metadata": {},
     "output_type": "execute_result"
    }
   ],
   "source": [
    "# observar que\n",
    "(0.1 + 0.2) - 0.3"
   ]
  },
  {
   "cell_type": "code",
   "execution_count": null,
   "id": "xczAouE9xT-n",
   "metadata": {
    "colab": {
     "base_uri": "https://localhost:8080/"
    },
    "id": "xczAouE9xT-n",
    "outputId": "f1312b8d-1aa2-45df-b714-0dfe36ac38c9"
   },
   "outputs": [
    {
     "data": {
      "text/plain": [
       "0.0"
      ]
     },
     "execution_count": 28,
     "metadata": {},
     "output_type": "execute_result"
    }
   ],
   "source": [
    "(0.5+0.75)/1e-20 - 1.25/1e-20"
   ]
  },
  {
   "cell_type": "code",
   "execution_count": null,
   "id": "dJHN9sK8ZUaE",
   "metadata": {
    "colab": {
     "base_uri": "https://localhost:8080/"
    },
    "id": "dJHN9sK8ZUaE",
    "outputId": "110c4f42-5201-47f0-a08c-5de35177d7e4"
   },
   "outputs": [
    {
     "data": {
      "text/plain": [
       "0.0"
      ]
     },
     "execution_count": 13,
     "metadata": {},
     "output_type": "execute_result"
    }
   ],
   "source": [
    "# en cambio\n",
    "(0.5+0.75) - 1.25"
   ]
  },
  {
   "cell_type": "markdown",
   "id": "a3d9a9a1",
   "metadata": {
    "id": "a3d9a9a1"
   },
   "source": [
    "### Cancelación catastrófica:\n",
    "\n",
    "Es la pérdida de dígitos significativos que produce la resta de números similares\n",
    "\n",
    "$$\n",
    "{\\displaystyle {\\begin{aligned}{\\tilde {x}}-{\\tilde {y}}&=x(1+\\delta _{x})-y(1+\\delta _{y})=x-y+x\\delta _{x}-y\\delta _{y}\\\\&=x-y+(x-y){\\frac {x\\delta _{x}-y\\delta _{y}}{x-y}}\\\\\\end{aligned}}}\n",
    "$$\n",
    "\n",
    "\n",
    "Entonces\n",
    "\n",
    "$$\n",
    "{\\displaystyle {\\begin{aligned}\\Big{|}\\frac{({\\tilde {x}}-{\\tilde {y}}) - (x - y)}{x-y}\\Big{|}&=\\Big{|}{\\frac {x\\delta _{x}-y\\delta _{y}}{x-y}}\\\\\\end{aligned}}}\\Big{|}\n",
    "$$\n",
    "\n",
    "\n",
    "* El error relativo de la diferencia exacta de las aproximaciones de los valores verdaderos puede ser arbitrariamente grande si los valores verdaderos x e y están cerca.\n",
    "* La resta en punto flotante de dos números muy parecidos es un problema mal condicionado (más adelante en la materia, más detalles).\n"
   ]
  },
  {
   "cell_type": "markdown",
   "id": "4602ab6f",
   "metadata": {
    "id": "4602ab6f"
   },
   "source": [
    "#### Ejemplo:\n",
    "\n",
    "Qué pasa si computamos $\\displaystyle \\frac{1-cos(x)}{x^2}$ para valores pequeños de $x$\n"
   ]
  },
  {
   "cell_type": "code",
   "id": "1df71caf",
   "metadata": {
    "id": "1df71caf",
    "ExecuteTime": {
     "end_time": "2024-08-17T17:05:43.308027Z",
     "start_time": "2024-08-17T17:05:43.037505Z"
    }
   },
   "source": [
    "import matplotlib.pyplot as plt"
   ],
   "outputs": [],
   "execution_count": 12
  },
  {
   "cell_type": "code",
   "id": "3Eg3DRUHAxcW",
   "metadata": {
    "colab": {
     "base_uri": "https://localhost:8080/",
     "height": 449
    },
    "id": "3Eg3DRUHAxcW",
    "outputId": "4998025d-b326-401f-8ba6-a02cc1de1b8e",
    "ExecuteTime": {
     "end_time": "2024-08-17T17:05:45.639673Z",
     "start_time": "2024-08-17T17:05:45.471911Z"
    }
   },
   "source": [
    "x = np.linspace(-10,10,100)\n",
    "y = (1-np.cos(x))/x**2\n",
    "plt.plot(x,y, label='$(1-cos(x))/x^2$')\n",
    "plt.xlabel(\"x\")\n",
    "plt.ylabel(\"y\")\n",
    "plt.legend();"
   ],
   "outputs": [
    {
     "data": {
      "text/plain": [
       "<Figure size 640x480 with 1 Axes>"
      ],
      "image/png": "[encoded data removed]"
     },
     "metadata": {},
     "output_type": "display_data"
    }
   ],
   "execution_count": 13
  },
  {
   "cell_type": "code",
   "id": "ea3c470f",
   "metadata": {
    "colab": {
     "base_uri": "https://localhost:8080/",
     "height": 449
    },
    "id": "ea3c470f",
    "outputId": "9e82ae74-214f-4972-cfff-fd6e4608735a",
    "ExecuteTime": {
     "end_time": "2024-08-17T17:05:49.503018Z",
     "start_time": "2024-08-17T17:05:49.418991Z"
    }
   },
   "source": [
    "x = np.linspace(-4e-8,4e-8,100)\n",
    "y = (1-np.cos(x))/x**2\n",
    "plt.plot(x,y, label='$(1-cos(x))/x^2$')\n",
    "plt.xlabel(\"x\")\n",
    "plt.ylabel(\"y\")\n",
    "plt.legend();\n",
    "\n",
    "# Que curioso el momento en que se hace 0!"
   ],
   "outputs": [
    {
     "data": {
      "text/plain": [
       "<Figure size 640x480 with 1 Axes>"
      ],
      "image/png": "[encoded data removed]"
     },
     "metadata": {},
     "output_type": "display_data"
    }
   ],
   "execution_count": 14
  },
  {
   "cell_type": "code",
   "id": "25abf4de",
   "metadata": {
    "colab": {
     "base_uri": "https://localhost:8080/",
     "height": 463
    },
    "id": "25abf4de",
    "outputId": "247b01b7-de08-4914-e26e-edbff1712b51",
    "ExecuteTime": {
     "end_time": "2024-08-17T17:05:52.414316Z",
     "start_time": "2024-08-17T17:05:52.322927Z"
    }
   },
   "source": [
    "x = np.linspace(-2e-8,2e-8,100)\n",
    "y = (1-np.cos(x))\n",
    "plt.plot(x,y, label='$1-cos(x)$')\n",
    "plt.plot(x,x**2, label='$x²$')\n",
    "plt.legend();"
   ],
   "outputs": [
    {
     "data": {
      "text/plain": [
       "<Figure size 640x480 with 1 Axes>"
      ],
      "image/png": "[encoded data removed]"
     },
     "metadata": {},
     "output_type": "display_data"
    }
   ],
   "execution_count": 15
  },
  {
   "cell_type": "markdown",
   "id": "850d501a",
   "metadata": {
    "id": "850d501a"
   },
   "source": [
    "Si se quiere evitar el problema, en este caso hay que buscar una identidad trigonométrica que no tenga la resta\n",
    "$\\displaystyle \\frac{2 sin^2(\\frac{x}{2})}{x^2}$"
   ]
  },
  {
   "cell_type": "code",
   "id": "86e1cfde",
   "metadata": {
    "colab": {
     "base_uri": "https://localhost:8080/",
     "height": 448
    },
    "id": "86e1cfde",
    "outputId": "34ef6938-a32d-4c90-f18a-9d8c840d246a",
    "ExecuteTime": {
     "end_time": "2024-08-17T17:05:54.713837Z",
     "start_time": "2024-08-17T17:05:54.627144Z"
    }
   },
   "source": [
    "x = np.linspace(-10e-8,10e-8,100)\n",
    "y = 2*np.sin(x/2)**2/x**2\n",
    "plt.plot(x,y);"
   ],
   "outputs": [
    {
     "data": {
      "text/plain": [
       "<Figure size 640x480 with 1 Axes>"
      ],
      "image/png": "[encoded data removed]"
     },
     "metadata": {},
     "output_type": "display_data"
    }
   ],
   "execution_count": 16
  },
  {
   "cell_type": "code",
   "id": "WAzw0r5iaoeo",
   "metadata": {
    "colab": {
     "base_uri": "https://localhost:8080/",
     "height": 430
    },
    "id": "WAzw0r5iaoeo",
    "outputId": "941f080c-8ada-4972-fc0c-bd49655a1fcb",
    "ExecuteTime": {
     "end_time": "2024-08-17T17:06:49.345580Z",
     "start_time": "2024-08-17T17:06:49.270063Z"
    }
   },
   "source": [
    "x = np.linspace(-10,10,100)\n",
    "y = 2*np.sin(x/2)**2/x**2\n",
    "plt.plot(x,y, label='$y = 2*sin(x/2)^2/x^2$')\n",
    "plt.legend();"
   ],
   "outputs": [
    {
     "data": {
      "text/plain": [
       "<Figure size 640x480 with 1 Axes>"
      ],
      "image/png": "[encoded data removed]"
     },
     "metadata": {},
     "output_type": "display_data"
    }
   ],
   "execution_count": 18
  },
  {
   "cell_type": "markdown",
   "id": "bb4ef8a4",
   "metadata": {
    "id": "bb4ef8a4"
   },
   "source": [
    "# Experimentación del día\n",
    "\n",
    "\n",
    "Nos interesa entender las fuentes de error numérico al realizar la suma de muchos números representados con un sistema de punto flotante y comparar distintos algoritmos para realizar esta tarea. ¿Importa el orden en que se suman?\n",
    "\n",
    "<br>\n",
    "\n",
    "Posibilidades de algoritmos:\n",
    "\n",
    "* Ası́ como vengan. Porque es lo más simple. Además queremos un baseline para comparar los otros métodos.\n",
    "* Usando el algoritmo de Kahan. Porque la catedra nos lo dijo\n",
    "* Ordenándolos de menor a mayor. Para no perder los numeritos chiquitos\n",
    "* Ordenándolos de mayor a menor. Porque quiero romper todo.\n",
    "\n",
    "A tener en cuenta:\n",
    "\n",
    "* Cómo construimos casos de estudio adecuados?\n",
    "* Qué sabemos de nuestra función y que deberíamos esperar de los resultados?\n",
    "\n",
    "---\n",
    "<br>\n",
    "\n",
    "También nos interesa evaluar la performance de los algoritmos según el tiempo de ejecución, para eso vamos a medir los tiempos en función del tamaño de la lista de números de entrada.\n",
    "\n",
    "A tener en cuenta:\n",
    "\n",
    "* Cómo se comportan los algoritmos para varios tamaños?\n",
    "* Cómo elegir los tamaños? Tomamos varias mediciones por tamaño?\n",
    "* Cómo medir los tiempos? Cómo reportamos los resultados?\n",
    "* Los resultados que se obtienen son razonables?\n",
    "\n",
    "---\n",
    "\n",
    "\n"
   ]
  },
  {
   "cell_type": "markdown",
   "id": "UqD9vje35WYP",
   "metadata": {
    "id": "UqD9vje35WYP"
   },
   "source": [
    "\n",
    "## Consigna\n",
    "\n",
    "Pedimos:\n",
    "\n",
    "- Breve experimentación\n",
    "- Redacción simulacro de TP no más de unos párrafos (https://www.overleaf.com/)\n",
    "- Para este informe de prueba:\n",
    "\n",
    "  * No hace falta:\n",
    "\n",
    "    - Introducción, conclusiones, pseudocódigo de como implementaron una solución al problema o casos de tests para probar que su implementación es correcta.\n",
    "\n",
    "  * Sí hace falta:\n",
    "\n",
    "    - Hipótesis y disusión de los resultados obtenidos.\n",
    "\n",
    "- Sugerencias adicionales:\n",
    "\n",
    "    - Planteo del problema cientı́fico. Objetivo de la consigna, qué se quiere investigar. Hipótesis previas sobre como funcionarán las cosas.\n",
    "    - Explicación del algoritmo/objeto de estudio.\n",
    "    - Proponer y fundamentar la experimentación: de qué forma se vincula lo que van a experimentar con las hipótesis que quieren validar.\n",
    "    - Explicar los diferentes métodos utilizados para la experimentación\n"
   ]
  },
  {
   "cell_type": "markdown",
   "id": "f36ff352",
   "metadata": {
    "id": "f36ff352"
   },
   "source": [
    "## Algunos casos de estudio"
   ]
  },
  {
   "cell_type": "code",
   "id": "oXnFA4a3r3ka",
   "metadata": {
    "colab": {
     "base_uri": "https://localhost:8080/"
    },
    "id": "oXnFA4a3r3ka",
    "outputId": "dc1b542c-6c14-4f7c-cfe3-1519121b707a",
    "ExecuteTime": {
     "end_time": "2024-08-17T19:34:16.588561Z",
     "start_time": "2024-08-17T19:34:16.586071Z"
    }
   },
   "source": [
    "# Errores que se propagan cuando se repiten muchas operaciones.\n",
    "# Con n = 10 ya se ve el problema\n",
    "n =10\n",
    "s = 0\n",
    "for i in range(n):\n",
    "  s += 0.1\n",
    "\n",
    "s"
   ],
   "outputs": [
    {
     "data": {
      "text/plain": [
       "0.9999999999999999"
      ]
     },
     "execution_count": 107,
     "metadata": {},
     "output_type": "execute_result"
    }
   ],
   "execution_count": 107
  },
  {
   "cell_type": "code",
   "execution_count": 22,
   "id": "QxVc1RHFr5np",
   "metadata": {
    "colab": {
     "base_uri": "https://localhost:8080/",
     "height": 34
    },
    "id": "QxVc1RHFr5np",
    "outputId": "227623aa-e4ff-4585-93a4-3e6a883a8d69"
   },
   "outputs": [
    {
     "data": {
      "text/plain": [
       "'0.400000000000000022204460492503'"
      ]
     },
     "execution_count": 22,
     "metadata": {},
     "output_type": "execute_result"
    }
   ],
   "source": [
    "# En clase en un momento probamos con n = 4 y no entendíamos porque el resultado parecía\n",
    "# Primera observación: el print limita por defecto la cantidad de decimales\n",
    "\n",
    "# 20 decimales\n",
    "def p(x):\n",
    "  return \"%0.30f\" % x\n",
    "\n",
    "n = 4\n",
    "s = 0\n",
    "for i in range(n):\n",
    "  s += 0.1\n",
    "\n",
    "p(s)"
   ]
  },
  {
   "cell_type": "code",
   "execution_count": null,
   "id": "uxE-N5qnr72v",
   "metadata": {
    "colab": {
     "base_uri": "https://localhost:8080/",
     "height": 34
    },
    "id": "uxE-N5qnr72v",
    "outputId": "ec307153-040e-47e2-dc2d-e83bd5ee91ca"
   },
   "outputs": [
    {
     "data": {
      "application/vnd.google.colaboratory.intrinsic+json": {
       "type": "string"
      },
      "text/plain": [
       "'0.300000000000000044408920985006'"
      ]
     },
     "execution_count": 50,
     "metadata": {},
     "output_type": "execute_result"
    }
   ],
   "source": [
    "# Ahora veamos que pasa cuando sumamos hasta 0.3\n",
    "a = 0.1 + 0.1 + 0.1\n",
    "p(a)\n"
   ]
  },
  {
   "cell_type": "code",
   "execution_count": null,
   "id": "41IX2zqWr9bM",
   "metadata": {
    "colab": {
     "base_uri": "https://localhost:8080/"
    },
    "id": "41IX2zqWr9bM",
    "outputId": "2fbc5cac-d676-492b-e82f-818dfc2a2ea2"
   },
   "outputs": [
    {
     "data": {
      "text/plain": [
       "5.551115123125783e-17"
      ]
     },
     "execution_count": 51,
     "metadata": {},
     "output_type": "execute_result"
    }
   ],
   "source": [
    "# Acarreamos error, suficiente para que a no sea equivalente a la representación del 0.3\n",
    "a - 0.3"
   ]
  },
  {
   "cell_type": "code",
   "execution_count": null,
   "id": "FkgfAMKwsB5L",
   "metadata": {
    "colab": {
     "base_uri": "https://localhost:8080/",
     "height": 34
    },
    "id": "FkgfAMKwsB5L",
    "outputId": "c595bf81-1e86-4039-9bd3-71fa8d07024f"
   },
   "outputs": [
    {
     "data": {
      "application/vnd.google.colaboratory.intrinsic+json": {
       "type": "string"
      },
      "text/plain": [
       "'0.000000000000000000000000000000'"
      ]
     },
     "execution_count": 52,
     "metadata": {},
     "output_type": "execute_result"
    }
   ],
   "source": [
    "# De hecho, caemos en exactamente el proximo número representable luego de 0.3\n",
    "p(a - (np.nextafter(0.3, 0.4)))"
   ]
  },
  {
   "cell_type": "code",
   "execution_count": null,
   "id": "sV8ftvCesV7D",
   "metadata": {
    "colab": {
     "base_uri": "https://localhost:8080/",
     "height": 34
    },
    "id": "sV8ftvCesV7D",
    "outputId": "46f53cf7-66d4-41bd-92ac-979110bf920a"
   },
   "outputs": [
    {
     "data": {
      "application/vnd.google.colaboratory.intrinsic+json": {
       "type": "string"
      },
      "text/plain": [
       "'0.400000000000000022204460492503'"
      ]
     },
     "execution_count": 53,
     "metadata": {},
     "output_type": "execute_result"
    }
   ],
   "source": [
    "# Si nos paramos en ese término y sumamos 0.1 veamos que pasa\n",
    "a = a + 0.1\n",
    "p(a)"
   ]
  },
  {
   "cell_type": "code",
   "execution_count": null,
   "id": "MSjFIV_AsiSH",
   "metadata": {
    "colab": {
     "base_uri": "https://localhost:8080/",
     "height": 34
    },
    "id": "MSjFIV_AsiSH",
    "outputId": "ee7645df-ad1d-4d7a-e76c-cd99eed38969"
   },
   "outputs": [
    {
     "data": {
      "application/vnd.google.colaboratory.intrinsic+json": {
       "type": "string"
      },
      "text/plain": [
       "'0.000000000000000000000000000000'"
      ]
     },
     "execution_count": 55,
     "metadata": {},
     "output_type": "execute_result"
    }
   ],
   "source": [
    "# Sin embargo\n",
    "p(a - 0.4)"
   ]
  },
  {
   "cell_type": "code",
   "execution_count": null,
   "id": "Equ9zyZgsl3w",
   "metadata": {
    "colab": {
     "base_uri": "https://localhost:8080/"
    },
    "id": "Equ9zyZgsl3w",
    "outputId": "aeb3ca99-52a7-4c29-a6eb-5570a7409e6d"
   },
   "outputs": [
    {
     "data": {
      "text/plain": [
       "-5.551115123125783e-17"
      ]
     },
     "execution_count": 56,
     "metadata": {},
     "output_type": "execute_result"
    }
   ],
   "source": [
    "# En este caso, el último incremento no hace que el resultado llegue a caer más allá de la representación del 0.4\n",
    "a - (np.nextafter(0.4, 0.5))"
   ]
  },
  {
   "cell_type": "code",
   "execution_count": null,
   "id": "07721fee",
   "metadata": {
    "colab": {
     "base_uri": "https://localhost:8080/"
    },
    "id": "07721fee",
    "outputId": "e0439667-b324-48e1-930b-3a70d243044b"
   },
   "outputs": [
    {
     "data": {
      "text/plain": [
       "1.0000000000000007"
      ]
     },
     "execution_count": 58,
     "metadata": {},
     "output_type": "execute_result"
    }
   ],
   "source": [
    "# Otro caso más general:\n",
    "# Sumamos n terminos 1/n\n",
    "# Probar con distintos n\n",
    "n = 100\n",
    "suma = 0.0\n",
    "for i in range(n):\n",
    "    suma = suma + 1/n\n",
    "suma"
   ]
  },
  {
   "cell_type": "markdown",
   "id": "-Qr1YpPPvemS",
   "metadata": {
    "id": "-Qr1YpPPvemS"
   },
   "source": [
    "Vamos a definir algunos algoritmos para trabajar con el problema de suma de lista de números."
   ]
  },
  {
   "cell_type": "code",
   "id": "bb4667d1",
   "metadata": {
    "id": "bb4667d1",
    "ExecuteTime": {
     "end_time": "2024-08-17T17:07:09.847787Z",
     "start_time": "2024-08-17T17:07:09.768024Z"
    }
   },
   "source": [
    "# Numba permite compilar bloques de código a lenguaje máquina 'just in time'\n",
    "# Las funciones con el decorator @jit se trataran de esa forma y se utilizará\n",
    "# el código ya compilado cada vez que se ejecuten en lugar de ser interpretadas\n",
    "# desde el bytecode.\n",
    "# De momento, se puede ignorar ya lo veremos con algo más de cuidado más adelante\n",
    "from numba import jit"
   ],
   "outputs": [],
   "execution_count": 19
  },
  {
   "cell_type": "code",
   "id": "7a4bacc4",
   "metadata": {
    "colab": {
     "base_uri": "https://localhost:8080/"
    },
    "id": "7a4bacc4",
    "outputId": "8d0a6a79-e1eb-4e4c-8c8f-dcf05e16ade4",
    "ExecuteTime": {
     "end_time": "2024-08-17T17:07:13.051157Z",
     "start_time": "2024-08-17T17:07:13.048577Z"
    }
   },
   "source": [
    "@jit\n",
    "def suma(lista):\n",
    "    suma = 0.0\n",
    "    for x in lista:\n",
    "        suma = suma + x\n",
    "    return suma\n",
    "\n",
    "@jit\n",
    "\n",
    "def kahan(lista):\n",
    "    # Accumulator\n",
    "    suma = 0.0\n",
    "\n",
    "    #A running compensation for lost low-order bits.\n",
    "    c = 0.0\n",
    "\n",
    "    for x in lista:\n",
    "        y = x - c\n",
    "        t = suma + y\n",
    "        c = (t - suma) - y #recupero los digitos menos significativos de y para la próxima\n",
    "        suma = t\n",
    "    return suma"
   ],
   "outputs": [],
   "execution_count": 21
  },
  {
   "cell_type": "markdown",
   "id": "j1WkaOwa1iyS",
   "metadata": {
    "id": "j1WkaOwa1iyS"
   },
   "source": [
    "Algoritmo de Kahan con un ejemplo https://en.wikipedia.org/wiki/Kahan_summation_algorithm\n"
   ]
  },
  {
   "cell_type": "code",
   "id": "5ed58a1f",
   "metadata": {
    "colab": {
     "base_uri": "https://localhost:8080/"
    },
    "id": "5ed58a1f",
    "outputId": "fd6ba13e-89c1-4b7a-9732-a70aca8d2e89",
    "ExecuteTime": {
     "end_time": "2024-08-17T17:07:16.367077Z",
     "start_time": "2024-08-17T17:07:16.363449Z"
    }
   },
   "source": [
    "# Serie términos iguales\n",
    "n = 100\n",
    "lista = np.array([1/n]*n)\n",
    "print(lista)"
   ],
   "outputs": [
    {
     "name": "stdout",
     "output_type": "stream",
     "text": [
      "[0.01 0.01 0.01 0.01 0.01 0.01 0.01 0.01 0.01 0.01 0.01 0.01 0.01 0.01\n",
      " 0.01 0.01 0.01 0.01 0.01 0.01 0.01 0.01 0.01 0.01 0.01 0.01 0.01 0.01\n",
      " 0.01 0.01 0.01 0.01 0.01 0.01 0.01 0.01 0.01 0.01 0.01 0.01 0.01 0.01\n",
      " 0.01 0.01 0.01 0.01 0.01 0.01 0.01 0.01 0.01 0.01 0.01 0.01 0.01 0.01\n",
      " 0.01 0.01 0.01 0.01 0.01 0.01 0.01 0.01 0.01 0.01 0.01 0.01 0.01 0.01\n",
      " 0.01 0.01 0.01 0.01 0.01 0.01 0.01 0.01 0.01 0.01 0.01 0.01 0.01 0.01\n",
      " 0.01 0.01 0.01 0.01 0.01 0.01 0.01 0.01 0.01 0.01 0.01 0.01 0.01 0.01\n",
      " 0.01 0.01]\n"
     ]
    }
   ],
   "execution_count": 22
  },
  {
   "cell_type": "code",
   "execution_count": null,
   "id": "81772898",
   "metadata": {
    "colab": {
     "base_uri": "https://localhost:8080/"
    },
    "id": "81772898",
    "outputId": "8bdbf66e-8113-4f7b-ce18-1f76c82228f2"
   },
   "outputs": [
    {
     "data": {
      "text/plain": [
       "(1.0000000000000007, 1.0)"
      ]
     },
     "execution_count": 61,
     "metadata": {},
     "output_type": "execute_result"
    }
   ],
   "source": [
    "suma(lista),  kahan(lista)"
   ]
  },
  {
   "cell_type": "code",
   "id": "666188b5",
   "metadata": {
    "colab": {
     "base_uri": "https://localhost:8080/"
    },
    "id": "666188b5",
    "outputId": "f69fa966-dfa4-4852-abee-18f63a5f764e",
    "ExecuteTime": {
     "end_time": "2024-08-17T17:07:18.213120Z",
     "start_time": "2024-08-17T17:07:18.209555Z"
    }
   },
   "source": [
    "# Series geométrica\n",
    "n = 100\n",
    "r = 0.9\n",
    "lista = r**np.arange(n)\n",
    "\n",
    "# Suma fórmula cerrada\n",
    "(1 - r**n)/(1-r)"
   ],
   "outputs": [
    {
     "data": {
      "text/plain": [
       "9.999734386011127"
      ]
     },
     "execution_count": 23,
     "metadata": {},
     "output_type": "execute_result"
    }
   ],
   "execution_count": 23
  },
  {
   "cell_type": "code",
   "execution_count": null,
   "id": "8f6066cb",
   "metadata": {
    "colab": {
     "base_uri": "https://localhost:8080/"
    },
    "id": "8f6066cb",
    "outputId": "7236cfff-6bc8-4bcc-c720-91a7f8062440"
   },
   "outputs": [
    {
     "data": {
      "text/plain": [
       "(9.999734386011122, 9.999734386011127, 9.999734386011122, 9.999734386011127)"
      ]
     },
     "execution_count": 63,
     "metadata": {},
     "output_type": "execute_result"
    }
   ],
   "source": [
    "suma(lista), suma(np.sort(lista)), suma(np.sort(lista)[::-1]), kahan(lista)"
   ]
  },
  {
   "cell_type": "code",
   "id": "e92ff3cc",
   "metadata": {
    "id": "e92ff3cc",
    "ExecuteTime": {
     "end_time": "2024-08-17T17:07:20.023381Z",
     "start_time": "2024-08-17T17:07:20.020359Z"
    }
   },
   "source": [
    "# Series aleatorios diferentes ordenes de magnitud\n",
    "n = 10000\n",
    "r = 0.99\n",
    "np.random.seed(1)\n",
    "lista = np.array(r**np.random.randint(1,1000,n))"
   ],
   "outputs": [],
   "execution_count": 24
  },
  {
   "cell_type": "code",
   "execution_count": null,
   "id": "13fcf496",
   "metadata": {
    "colab": {
     "base_uri": "https://localhost:8080/"
    },
    "id": "13fcf496",
    "outputId": "41f7eeb7-71c9-4f57-d487-b9603dc840bd"
   },
   "outputs": [
    {
     "data": {
      "text/plain": [
       "(1020.8543202006157,\n",
       " 1020.8543202006146,\n",
       " 1020.8543202006157,\n",
       " 1020.8543202006142)"
      ]
     },
     "execution_count": 65,
     "metadata": {},
     "output_type": "execute_result"
    }
   ],
   "source": [
    "suma(lista), suma(np.sort(lista)), suma(np.sort(lista)[::-1]), kahan(lista)"
   ]
  },
  {
   "cell_type": "markdown",
   "id": "hp0Ut_zH1Low",
   "metadata": {
    "id": "hp0Ut_zH1Low"
   },
   "source": [
    "## Reporte de distribuciones en experimentos con aleatoriedad"
   ]
  },
  {
   "cell_type": "markdown",
   "id": "UZb1or271Wxo",
   "metadata": {
    "id": "UZb1or271Wxo"
   },
   "source": [
    "Los errores generados al sumar los elementos de la lista, depende del orden de como estén estos elementos. Podemos computar la suma para muchos ordenamientos distintos y ver la distribución de los errores"
   ]
  },
  {
   "cell_type": "code",
   "id": "AVRcNavu1ZJZ",
   "metadata": {
    "colab": {
     "base_uri": "https://localhost:8080/",
     "height": 463
    },
    "id": "AVRcNavu1ZJZ",
    "outputId": "2f566f94-4c74-4e7b-d308-53473bed6bf3",
    "ExecuteTime": {
     "end_time": "2024-08-17T17:07:22.877842Z",
     "start_time": "2024-08-17T17:07:21.968564Z"
    }
   },
   "source": [
    "errores = []\n",
    "n = 10000\n",
    "r = 0.99\n",
    "fn = sum\n",
    "for i in range(1000):\n",
    "    lista = r**np.arange(n)\n",
    "    np.random.seed(i)\n",
    "    np.random.shuffle(lista)\n",
    "    errores.append(np.abs(fn(lista)-(1 - r**n)/(1-r)))\n",
    "\n",
    "plt.hist(errores, density=True);"
   ],
   "outputs": [
    {
     "data": {
      "text/plain": [
       "<Figure size 640x480 with 1 Axes>"
      ],
      "image/png": "[encoded data removed]"
     },
     "metadata": {},
     "output_type": "display_data"
    }
   ],
   "execution_count": 25
  },
  {
   "cell_type": "markdown",
   "id": "cvdwHUjp2Tl0",
   "metadata": {
    "id": "cvdwHUjp2Tl0"
   },
   "source": [
    "Qué tipo de distribucioń es? Cómo se puede representar graficamente el valor esperado y la dispersión?"
   ]
  },
  {
   "cell_type": "markdown",
   "id": "5be92591",
   "metadata": {
    "id": "5be92591"
   },
   "source": [
    "## Medición de tiempos"
   ]
  },
  {
   "cell_type": "code",
   "id": "956369f6",
   "metadata": {
    "colab": {
     "base_uri": "https://localhost:8080/"
    },
    "id": "956369f6",
    "outputId": "827ba2b2-82de-42f5-8360-9f4fe0183753",
    "ExecuteTime": {
     "end_time": "2024-08-17T17:07:26.962220Z",
     "start_time": "2024-08-17T17:07:25.959129Z"
    }
   },
   "source": [
    "import time\n",
    "tic = time.time()\n",
    "time.sleep(1)\n",
    "toc = time.time()\n",
    "toc-tic"
   ],
   "outputs": [
    {
     "data": {
      "text/plain": [
       "1.0001943111419678"
      ]
     },
     "execution_count": 26,
     "metadata": {},
     "output_type": "execute_result"
    }
   ],
   "execution_count": 26
  },
  {
   "cell_type": "code",
   "id": "182ca401",
   "metadata": {
    "colab": {
     "base_uri": "https://localhost:8080/"
    },
    "id": "182ca401",
    "outputId": "cfb9cec2-f8b0-4212-d54a-7fe7d25e6821",
    "ExecuteTime": {
     "end_time": "2024-08-17T17:07:29.541560Z",
     "start_time": "2024-08-17T17:07:28.538387Z"
    }
   },
   "source": [
    "times = %timeit -r 1 -n 1 -o time.sleep(1)"
   ],
   "outputs": [
    {
     "name": "stdout",
     "output_type": "stream",
     "text": [
      "1 s ± 0 ns per loop (mean ± std. dev. of 1 run, 1 loop each)\n"
     ]
    }
   ],
   "execution_count": 27
  },
  {
   "cell_type": "code",
   "id": "6c28745d",
   "metadata": {
    "colab": {
     "base_uri": "https://localhost:8080/"
    },
    "id": "6c28745d",
    "outputId": "d5634934-559d-4cca-b1b7-891d0622c171",
    "ExecuteTime": {
     "end_time": "2024-08-17T17:07:30.902713Z",
     "start_time": "2024-08-17T17:07:30.784200Z"
    }
   },
   "source": [
    "tic = time.time()\n",
    "suma(lista)\n",
    "toc = time.time()\n",
    "(toc-tic)"
   ],
   "outputs": [
    {
     "data": {
      "text/plain": [
       "0.1159203052520752"
      ]
     },
     "execution_count": 28,
     "metadata": {},
     "output_type": "execute_result"
    }
   ],
   "execution_count": 28
  },
  {
   "cell_type": "code",
   "id": "23639028",
   "metadata": {
    "colab": {
     "base_uri": "https://localhost:8080/"
    },
    "id": "23639028",
    "outputId": "a2bea3e2-d51d-476c-cb2e-bc16e8174f5e",
    "ExecuteTime": {
     "end_time": "2024-08-17T17:07:32.378711Z",
     "start_time": "2024-08-17T17:07:32.372824Z"
    }
   },
   "source": [
    "# n es la cantiad de veces que se ejecuta la función por repetición\n",
    "# r es la cantidad de muestras que se toman\n",
    "# si n no se especifica, se estima automaticamente para que el tiempo total de los loops sea al menos 0.2s\n",
    "times = %timeit -r 5 -n 100 -o suma(lista)"
   ],
   "outputs": [
    {
     "name": "stdout",
     "output_type": "stream",
     "text": [
      "5.11 μs ± 59.5 ns per loop (mean ± std. dev. of 5 runs, 100 loops each)\n"
     ]
    }
   ],
   "execution_count": 29
  },
  {
   "cell_type": "markdown",
   "id": "3feps552NkTH",
   "metadata": {
    "id": "3feps552NkTH"
   },
   "source": [
    "El tiempo promedio estimado de cada repetición se obtiene por medio de times.timings. También se puede consultar el total en times.all_runs.\n",
    "\n",
    "Según la documentación:\n",
    "\n",
    "```python\n",
    "timings =  [dt / self.loops for dt in all_runs] #self.loops = n\n",
    "```\n"
   ]
  },
  {
   "cell_type": "markdown",
   "id": "WaXJHvAHLU_E",
   "metadata": {
    "id": "WaXJHvAHLU_E"
   },
   "source": [
    "Ojo con la resolución del timer!"
   ]
  },
  {
   "cell_type": "markdown",
   "id": "KbSS0N8167c7",
   "metadata": {
    "id": "KbSS0N8167c7"
   },
   "source": [
    "### Distribución de tiempos"
   ]
  },
  {
   "cell_type": "code",
   "id": "9amQIrv75wcU",
   "metadata": {
    "id": "9amQIrv75wcU",
    "ExecuteTime": {
     "end_time": "2024-08-17T17:08:15.210530Z",
     "start_time": "2024-08-17T17:08:14.953445Z"
    }
   },
   "source": [
    "times = %timeit -q -r 5000 -n 10 -o suma(lista)"
   ],
   "outputs": [],
   "execution_count": 39
  },
  {
   "cell_type": "code",
   "id": "lnhdlVrV5yct",
   "metadata": {
    "colab": {
     "base_uri": "https://localhost:8080/",
     "height": 449
    },
    "id": "lnhdlVrV5yct",
    "outputId": "67c49d98-679e-477e-b94b-e9a7bcaca6c4",
    "ExecuteTime": {
     "end_time": "2024-08-17T17:42:00.589965Z",
     "start_time": "2024-08-17T17:42:00.489962Z"
    }
   },
   "source": [
    "plt.hist(times.timings)\n",
    "plt.ylabel('#')\n",
    "plt.xlabel('Tiempo (s)')"
   ],
   "outputs": [
    {
     "data": {
      "text/plain": [
       "<Figure size 640x480 with 1 Axes>"
      ],
      "image/png": "[encoded data removed]"
     },
     "metadata": {},
     "output_type": "display_data"
    }
   ],
   "execution_count": 67
  },
  {
   "cell_type": "code",
   "id": "4yj7lopkPax6",
   "metadata": {
    "colab": {
     "base_uri": "https://localhost:8080/",
     "height": 449
    },
    "id": "4yj7lopkPax6",
    "outputId": "ff4492bc-0aa1-4144-b325-6e4f32be04c3",
    "ExecuteTime": {
     "end_time": "2024-08-17T17:41:58.072062Z",
     "start_time": "2024-08-17T17:41:57.924602Z"
    }
   },
   "source": [
    "plt.hist(times.timings,log='True');\n",
    "plt.ylabel('#')\n",
    "plt.xlabel('Tiempo (s)');"
   ],
   "outputs": [
    {
     "data": {
      "text/plain": [
       "<Figure size 640x480 with 1 Axes>"
      ],
      "image/png": "[encoded data removed]"
     },
     "metadata": {},
     "output_type": "display_data"
    }
   ],
   "execution_count": 66
  },
  {
   "cell_type": "markdown",
   "id": "tRM6h3NqrarQ",
   "metadata": {
    "id": "tRM6h3NqrarQ"
   },
   "source": [
    "Con escala logarítmica y cambiando los bins también a un arreglo logarítmico se puede ver bien la forma de la distribución de los tiempos. Qué tipo de distribución es?"
   ]
  },
  {
   "cell_type": "code",
   "id": "pk4tZvy_6VTy",
   "metadata": {
    "colab": {
     "base_uri": "https://localhost:8080/",
     "height": 454
    },
    "id": "pk4tZvy_6VTy",
    "outputId": "6259c113-ab7f-4958-9c09-aa9a44b64558",
    "ExecuteTime": {
     "end_time": "2024-08-17T17:41:53.765259Z",
     "start_time": "2024-08-17T17:41:53.574559Z"
    }
   },
   "source": [
    "plt.hist(times.all_runs,bins=np.logspace(-4,-2,50));\n",
    "plt.ylabel('#')\n",
    "plt.xlabel('Tiempo (s)');\n",
    "plt.xscale('log')\n",
    "plt.yscale('log')"
   ],
   "outputs": [
    {
     "data": {
      "text/plain": [
       "<Figure size 640x480 with 1 Axes>"
      ],
      "image/png": "[encoded data removed]"
     },
     "metadata": {},
     "output_type": "display_data"
    }
   ],
   "execution_count": 65
  },
  {
   "cell_type": "code",
   "id": "DYDRaMUSRFrd",
   "metadata": {
    "colab": {
     "base_uri": "https://localhost:8080/"
    },
    "id": "DYDRaMUSRFrd",
    "outputId": "0ee70336-c827-4c9e-cc5d-4ce3505c9678",
    "ExecuteTime": {
     "end_time": "2024-08-17T17:08:23.861911Z",
     "start_time": "2024-08-17T17:08:23.859011Z"
    }
   },
   "source": [
    "np.logspace(-4,-2,50)"
   ],
   "outputs": [
    {
     "data": {
      "text/plain": [
       "array([0.0001    , 0.00010985, 0.00012068, 0.00013257, 0.00014563,\n",
       "       0.00015999, 0.00017575, 0.00019307, 0.0002121 , 0.000233  ,\n",
       "       0.00025595, 0.00028118, 0.00030888, 0.00033932, 0.00037276,\n",
       "       0.00040949, 0.00044984, 0.00049417, 0.00054287, 0.00059636,\n",
       "       0.00065513, 0.00071969, 0.0007906 , 0.00086851, 0.0009541 ,\n",
       "       0.00104811, 0.0011514 , 0.00126486, 0.0013895 , 0.00152642,\n",
       "       0.00167683, 0.00184207, 0.00202359, 0.002223  , 0.00244205,\n",
       "       0.0026827 , 0.00294705, 0.00323746, 0.00355648, 0.00390694,\n",
       "       0.00429193, 0.00471487, 0.00517947, 0.00568987, 0.00625055,\n",
       "       0.00686649, 0.00754312, 0.00828643, 0.00910298, 0.01      ])"
      ]
     },
     "execution_count": 43,
     "metadata": {},
     "output_type": "execute_result"
    }
   ],
   "execution_count": 43
  },
  {
   "cell_type": "code",
   "id": "kpLaRXS3RThc",
   "metadata": {
    "colab": {
     "base_uri": "https://localhost:8080/"
    },
    "id": "kpLaRXS3RThc",
    "outputId": "0271abbb-9dfb-4b79-84bb-349624a2aed7",
    "ExecuteTime": {
     "end_time": "2024-08-17T17:08:25.089276Z",
     "start_time": "2024-08-17T17:08:25.085512Z"
    }
   },
   "source": [
    "10 ** np.linspace(-4,-2,50)"
   ],
   "outputs": [
    {
     "data": {
      "text/plain": [
       "array([0.0001    , 0.00010985, 0.00012068, 0.00013257, 0.00014563,\n",
       "       0.00015999, 0.00017575, 0.00019307, 0.0002121 , 0.000233  ,\n",
       "       0.00025595, 0.00028118, 0.00030888, 0.00033932, 0.00037276,\n",
       "       0.00040949, 0.00044984, 0.00049417, 0.00054287, 0.00059636,\n",
       "       0.00065513, 0.00071969, 0.0007906 , 0.00086851, 0.0009541 ,\n",
       "       0.00104811, 0.0011514 , 0.00126486, 0.0013895 , 0.00152642,\n",
       "       0.00167683, 0.00184207, 0.00202359, 0.002223  , 0.00244205,\n",
       "       0.0026827 , 0.00294705, 0.00323746, 0.00355648, 0.00390694,\n",
       "       0.00429193, 0.00471487, 0.00517947, 0.00568987, 0.00625055,\n",
       "       0.00686649, 0.00754312, 0.00828643, 0.00910298, 0.01      ])"
      ]
     },
     "execution_count": 44,
     "metadata": {},
     "output_type": "execute_result"
    }
   ],
   "execution_count": 44
  },
  {
   "cell_type": "markdown",
   "id": "oFfs-WawrvxV",
   "metadata": {
    "id": "oFfs-WawrvxV"
   },
   "source": [
    "---\n",
    "\n",
    "## Experimentar!\n",
    "\n",
    "Estudiar y comparar el tiempo de ejecución y el error numérico de los algoritmos. Utilizar como caso de estudio la suma de una serie geométrica para distintas cantidades de términos ($n$).\n",
    "\n",
    "Para computar el error absoluto se puede comparar con la fórmula cerrada:\n",
    "\n",
    "```python\n",
    "lista = r ** np.arange(n)\n",
    "error = np.abs(np.sum(lista)-(1 - r**n)/(1-r))\n",
    "```\n",
    "\n",
    "Los resultados esperados deberían ser (lo más aproximado) a:"
   ]
  },
  {
   "cell_type": "markdown",
   "id": "Cj4xQzv34r47",
   "metadata": {
    "id": "Cj4xQzv34r47"
   },
   "source": ""
  },
  {
   "cell_type": "code",
   "id": "uqBy-9-Uru1h",
   "metadata": {
    "id": "uqBy-9-Uru1h",
    "ExecuteTime": {
     "end_time": "2024-08-17T17:08:28.375316Z",
     "start_time": "2024-08-17T17:08:28.373442Z"
    }
   },
   "source": [
    "# TO DO\n",
    "# TO DO\n",
    "# TO DO"
   ],
   "outputs": [],
   "execution_count": 45
  },
  {
   "cell_type": "markdown",
   "id": "D2eCEFvNoMAI",
   "metadata": {
    "id": "D2eCEFvNoMAI"
   },
   "source": ""
  },
  {
   "cell_type": "code",
   "id": "0b805c81-1ff7-4964-8449-485a872c0ba5",
   "metadata": {
    "ExecuteTime": {
     "end_time": "2024-08-17T17:28:11.466733Z",
     "start_time": "2024-08-17T17:28:11.463589Z"
    }
   },
   "source": [
    "import sys\n",
    "import numpy as np\n",
    "\n",
    "def p(x):\n",
    "  return \"%0.30f\" % x\n"
   ],
   "outputs": [],
   "execution_count": 55
  },
  {
   "cell_type": "code",
   "id": "8d7f7177-57f9-4ae9-b825-cfb40335a6f1",
   "metadata": {
    "ExecuteTime": {
     "end_time": "2024-08-17T19:17:28.273522Z",
     "start_time": "2024-08-17T19:17:28.271342Z"
    }
   },
   "source": [
    "def sum_asc(ls):\n",
    "    np.sort(ls)\n",
    "    sum = 0.0\n",
    "    for i in ls:\n",
    "        sum += i\n",
    "    return sum"
   ],
   "outputs": [],
   "execution_count": 91
  },
  {
   "cell_type": "code",
   "id": "560e3a02-219e-4689-a918-7118d9479ff6",
   "metadata": {
    "ExecuteTime": {
     "end_time": "2024-08-17T19:17:26.840501Z",
     "start_time": "2024-08-17T19:17:26.837574Z"
    }
   },
   "source": [
    "def sum_desc(ls):\n",
    "    np.sort(ls)[::-1]\n",
    "    sum = 0.0\n",
    "    for i in ls:\n",
    "        sum += i\n",
    "    return sum"
   ],
   "outputs": [],
   "execution_count": 90
  },
  {
   "cell_type": "code",
   "id": "0af6ba9b-ea93-48ed-84f0-8b809963fc5d",
   "metadata": {
    "ExecuteTime": {
     "end_time": "2024-08-17T17:07:53.364363Z",
     "start_time": "2024-08-17T17:07:53.361884Z"
    }
   },
   "source": [
    "def kahan(ls):\n",
    "    # Accumulator\n",
    "    sum = 0.0\n",
    "\n",
    "    #A running compensation for lost low-order bits.\n",
    "    c = 0.0\n",
    "\n",
    "    for x in ls:\n",
    "        y = x - c\n",
    "        t = sum + y\n",
    "        c = (t - sum) - y #recupero los digitos menos significativos de y para la próxima\n",
    "        sum = t\n",
    "    return sum"
   ],
   "outputs": [],
   "execution_count": 35
  },
  {
   "metadata": {
    "ExecuteTime": {
     "end_time": "2024-08-17T20:10:51.500878Z",
     "start_time": "2024-08-17T20:10:51.498098Z"
    }
   },
   "cell_type": "code",
   "source": [
    "def errores_de_suma(n, r):\n",
    "    numeros_crecientes = r ** np.arange(n)\n",
    "    suma_formula_cerrada = (1 - r ** n) / (1 - r)\n",
    "\n",
    "    suma_normal = np.sum(numeros_crecientes)\n",
    "    suma_descendente = sum_desc(numeros_crecientes)\n",
    "    suma_ascendente = sum_asc(numeros_crecientes)\n",
    "    suma_kahan = kahan(numeros_crecientes)\n",
    "\n",
    "    error_normal = np.abs(suma_normal - suma_formula_cerrada)\n",
    "    error_descendente = np.abs(suma_descendente - suma_formula_cerrada)\n",
    "    error_ascendente = np.abs(suma_ascendente - suma_formula_cerrada)\n",
    "    error_kahan = np.abs(suma_kahan - suma_formula_cerrada)\n",
    "\n",
    "    return [p(error_normal), p(error_descendente), p(error_ascendente), p(error_kahan)]"
   ],
   "id": "6bc9a31e7ba15925",
   "outputs": [],
   "execution_count": 136
  },
  {
   "metadata": {
    "ExecuteTime": {
     "end_time": "2024-08-17T20:01:28.466877Z",
     "start_time": "2024-08-17T20:01:28.463840Z"
    }
   },
   "cell_type": "code",
   "source": "print( np.arange(10) * 0.001953125)",
   "id": "d5c5ede3791b0a5b",
   "outputs": [
    {
     "name": "stdout",
     "output_type": "stream",
     "text": [
      "[0.         0.00195312 0.00390625 0.00585938 0.0078125  0.00976562\n",
      " 0.01171875 0.01367188 0.015625   0.01757812]\n"
     ]
    }
   ],
   "execution_count": 134
  },
  {
   "metadata": {
    "ExecuteTime": {
     "end_time": "2024-08-17T20:22:03.214293Z",
     "start_time": "2024-08-17T20:22:03.207968Z"
    }
   },
   "cell_type": "code",
   "source": [
    "razon = 0.025\n",
    "diez_elementos = errores_de_suma(10, razon)\n",
    "cien_elementos = errores_de_suma(100, razon)\n",
    "mil_elementos = errores_de_suma(1000, razon)\n",
    "diez_mil_elementos = errores_de_suma(10000, razon)\n",
    "\n",
    "absolute_error = {\n",
    "    'suma': [diez_elementos[0], cien_elementos[0], mil_elementos[0], diez_mil_elementos[0]],\n",
    "    'suma_ordenada_descendente': [diez_elementos[1], cien_elementos[1], mil_elementos[1], diez_mil_elementos[1]],\n",
    "    'suma_ordenada_ascendente': [diez_elementos[2], cien_elementos[2], mil_elementos[2], diez_mil_elementos[2]],\n",
    "    'suma_kahan': [diez_elementos[3], cien_elementos[3], mil_elementos[3], diez_mil_elementos[3]],\n",
    "}\n",
    "\n",
    "print(absolute_error['suma'])\n",
    "print(absolute_error['suma_ordenada_descendente'])\n",
    "print(absolute_error['suma_ordenada_ascendente'])\n",
    "print(absolute_error['suma_kahan'])"
   ],
   "id": "e15e4369-fc5c-43c2-96b3-60ac9f661f20",
   "outputs": [
    {
     "name": "stdout",
     "output_type": "stream",
     "text": [
      "['0.000000000000000222044604925031', '0.000000000000000000000000000000', '0.000000000000000000000000000000', '0.000000000000000000000000000000']\n",
      "['0.000000000000000000000000000000', '0.000000000000000222044604925031', '0.000000000000000222044604925031', '0.000000000000000222044604925031']\n",
      "['0.000000000000000000000000000000', '0.000000000000000222044604925031', '0.000000000000000222044604925031', '0.000000000000000222044604925031']\n",
      "['0.000000000000000000000000000000', '0.000000000000000222044604925031', '0.000000000000000222044604925031', '0.000000000000000222044604925031']\n"
     ]
    }
   ],
   "execution_count": 142
  }
 ],
 "metadata": {
  "colab": {
   "provenance": []
  },
  "kernelspec": {
   "display_name": "Python 3 (ipykernel)",
   "language": "python",
   "name": "python3"
  },
  "language_info": {
   "codemirror_mode": {
    "name": "ipython",
    "version": 3
   },
   "file_extension": ".py",
   "mimetype": "text/x-python",
   "name": "python",
   "nbconvert_exporter": "python",
   "pygments_lexer": "ipython3",
   "version": "3.10.12"
  }
 },
 "nbformat": 4,
 "nbformat_minor": 5
}
